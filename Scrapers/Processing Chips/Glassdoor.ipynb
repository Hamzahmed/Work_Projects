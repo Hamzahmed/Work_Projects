{
 "cells": [
  {
   "cell_type": "code",
   "execution_count": null,
   "metadata": {},
   "outputs": [],
   "source": [
    "from bs4 import BeautifulSoup as soup\n",
    "import requests\n",
    "import re\n",
    "import pandas as pd\n",
    "from selenium import webdriver\n",
    "import html5lib\n",
    "import numpy as np\n",
    "import csv\n",
    "from collections import defaultdict\n",
    "from tabulate import tabulate\n",
    "import openpyxl\n",
    "from selenium import webdriver\n",
    "from selenium.webdriver.common.by import By\n",
    "from selenium.webdriver.support.ui import WebDriverWait\n",
    "from selenium.webdriver.support import expected_conditions as EC\n",
    "from selenium.common.exceptions import NoSuchElementException, ElementClickInterceptedException\n",
    "from selenium.webdriver.chrome.options import Options\n",
    "from selenium.webdriver.common.keys import Keys\n",
    "from selenium.webdriver.support.ui import Select\n",
    "from webdriver_manager.chrome import ChromeDriverManager\n",
    "import time"
   ]
  },
  {
   "cell_type": "code",
   "execution_count": null,
   "metadata": {},
   "outputs": [],
   "source": [
    "\n",
    "#Initializing the webdriver,\n",
    "\n",
    "driver = webdriver.Chrome(ChromeDriverManager().install())\n",
    "HEADER = {'User-Agent': 'Mozilla/5.0 (Windows; U; Windows NT 5.1; en-US; rv:1.9.0.7) Gecko/2009021910 Firefox/3.0.7'}\n",
    "driver.maximize_window()\n",
    "#WebDriverWait(driver, 20).until(EC.presence_of_element_located((By.ID, \"username\")))\n",
    "\n",
    "#options.add_argument('headless')\n",
    "#Change the path to where chromedriver is in your home folder.\\n\",\n",
    "#driver = webdriver.Chrome(executable_path=\"/path/to/chromedriver\", options=options)\n",
    "#driver.set_window_size(1120, 1000)\n",
    "url = \"https://www.glassdoor.com/Jobs/Intel-Corporation-Jobs-E1519.htm?filter.countryId=1\"\n",
    "\n",
    "driver.get(url)\n",
    "time.sleep(1)\n",
    "driver.find_element_by_xpath('//*[@id=\"JobsLandingPage\"]/div/div/div/div[2]/div/div[1]/button[2]').click()\n",
    "time.sleep(1)\n",
    "driver.find_element_by_xpath('//*[@id=\"HardsellOverlay\"]/div/div/div/div/div[2]/div/a').click()\n",
    "time.sleep(1)\n",
    "#username = driver.find_element_by_xpath('//*[@id=\"HardsellOverlay\"]/div/div/div/div/div[1]/div/form/div[1]').click()\n",
    "username = WebDriverWait(driver, 10).until(EC.presence_of_element_located((By.NAME, \"username\")))\n",
    "\n",
    "username.send_keys(\"sample\")\n"
   ]
  },
  {
   "cell_type": "code",
   "execution_count": null,
   "metadata": {},
   "outputs": [],
   "source": [
    "#num_pages = 3\n",
    "url_page_lists = []\n",
    "for num_pages in range(1,4):\n",
    "    url_root = 'https://www.glassdoor.com/Jobs/Intel-Corporation-Jobs-E1519_P'+str(num_pages)+'.htm?filter.countryId=1&cursor=ACgAAYEAKAAAAAAAAAAAAAAAActAbJgAXAECAQgSBwDX0Tn6VYQtcmTz/HT+NdwBeRmHrXsxHaRVMYXPKWfT5BPGOYGiUO3blmvtlyeRWaZLAVGH0G2Zv7J+q6zC1tsimO9CzaPwSk5g17KfZpRxFpujnYKPAAA='\n",
    "    url_page_lists.append(url_root)\n",
    "\n",
    "# # List comprehension to iterate through each of those 3 pages\n",
    "# nums = [x+1 for x in range(num_pages)]\n",
    "# # Create a list of the URLs we wish to scrape by adding 'n' to the end of url_root\n",
    "# url_mains = list(map(lambda n: url_root + str(n), nums))"
   ]
  },
  {
   "cell_type": "code",
   "execution_count": null,
   "metadata": {},
   "outputs": [],
   "source": [
    "for u in url_page_lists:\n",
    "        driver.get(u)\n",
    "        driver.implicitly_wait(3)\n",
    "       "
   ]
  },
  {
   "cell_type": "code",
   "execution_count": null,
   "metadata": {},
   "outputs": [],
   "source": [
    "Bootifulobj = soup(driver.page_source, \"html.parser\")\n",
    "job_items = Bootifulobj.find_all('li',class_= \"JobsListStyles__newJobListItem pt-std\")"
   ]
  },
  {
   "cell_type": "code",
   "execution_count": null,
   "metadata": {},
   "outputs": [],
   "source": [
    "\n",
    "job_links= []\n",
    "baseurl = 'https://www.glassdoor.com'\n",
    "for items in job_items:\n",
    "    for links in items.find_all('a', {'class': \"JobDetailsStyles__jobTitle\"}, href = True, ):\n",
    "        job_links.append(baseurl + links['href'])"
   ]
  },
  {
   "cell_type": "code",
   "execution_count": null,
   "metadata": {},
   "outputs": [],
   "source": [
    "Job_Titles= []\n",
    "for JT in Bootifulobj.findAll('a',{'class': \"JobDetailsStyles__jobTitle\" }):\n",
    "    #print(p.text)\n",
    "    Job_Titles.append(JT.text)\n"
   ]
  }
 ],
 "metadata": {
  "interpreter": {
   "hash": "31f2aee4e71d21fbe5cf8b01ff0e069b9275f58929596ceb00d14d90e3e16cd6"
  },
  "kernelspec": {
   "display_name": "Python 3.8.9 64-bit",
   "language": "python",
   "name": "python3"
  },
  "language_info": {
   "codemirror_mode": {
    "name": "ipython",
    "version": 3
   },
   "file_extension": ".py",
   "mimetype": "text/x-python",
   "name": "python",
   "nbconvert_exporter": "python",
   "pygments_lexer": "ipython3",
   "version": "3.9.6 (default, Oct 18 2022, 12:41:40) \n[Clang 14.0.0 (clang-1400.0.29.202)]"
  },
  "orig_nbformat": 4
 },
 "nbformat": 4,
 "nbformat_minor": 2
}
