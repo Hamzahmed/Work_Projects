{
 "cells": [
  {
   "cell_type": "code",
   "execution_count": null,
   "metadata": {},
   "outputs": [],
   "source": [
    "from bs4 import BeautifulSoup as soup\n",
    "import requests\n",
    "import re\n",
    "import pandas as pd\n",
    "from selenium import webdriver\n",
    "from webdriver_manager.chrome import ChromeDriverManager\n",
    "import time\n"
   ]
  },
  {
   "cell_type": "code",
   "execution_count": null,
   "metadata": {},
   "outputs": [],
   "source": [
    "HEADER = {'User-Agent': 'Mozilla/5.0 (Windows; U; Windows NT 5.1; en-US; rv:1.9.0.7) Gecko/2009021910 Firefox/3.0.7'}\n",
    "URL = \"https://weknife.com/plus/list-2.html\"\n",
    "#PROXY = {\"https\": \"https//59.110.7.190:1080\"}\n"
   ]
  },
  {
   "cell_type": "code",
   "execution_count": null,
   "metadata": {},
   "outputs": [],
   "source": [
    "\n",
    "browser = webdriver.Chrome(ChromeDriverManager().install())\n",
    "browser.get(URL)\n",
    "browser.implicitly_wait(60) \n",
    "for i in range(1,100):\n",
    "    browser.execute_script(\"window.scrollTo(0, document.body.scrollHeight);\")\n",
    "    time.sleep(1)\n",
    "    html_source = browser.page_source\n",
    "    data = html_source.encode('utf-8')\n",
    "#python_button = browser.find_element_by_xpath('//*[@id=\"maincontent\"]/div[2]/div/div[2]/ol/li[31]/div/p[1]')\n",
    "#python_button.click()"
   ]
  },
  {
   "cell_type": "code",
   "execution_count": null,
   "metadata": {},
   "outputs": [],
   "source": [
    "Bootifulobj = soup(browser.page_source, \"html.parser\")\n",
    "#Bootifulobj\n"
   ]
  },
  {
   "cell_type": "code",
   "execution_count": null,
   "metadata": {},
   "outputs": [],
   "source": [
    "knife_items = Bootifulobj.find_all('div',class_= \"item\")\n",
    "len(knife_items)\n"
   ]
  },
  {
   "cell_type": "code",
   "execution_count": null,
   "metadata": {},
   "outputs": [],
   "source": [
    "Price= []\n",
    "for P in Bootifulobj.findAll('div',{'class': \"msrp\" }):\n",
    "    #print(p.text)\n",
    "    Price.append(P.text)\n",
    "len(Price)"
   ]
  },
  {
   "cell_type": "code",
   "execution_count": null,
   "metadata": {},
   "outputs": [],
   "source": [
    "Title = []\n",
    "for T in Bootifulobj.findAll('div',{'class': \"producttitle3\"}):\n",
    "    #print(p.text)\n",
    "    Title.append(T.text)\n",
    "len(Title)"
   ]
  },
  {
   "cell_type": "code",
   "execution_count": null,
   "metadata": {},
   "outputs": [],
   "source": [
    "title_price = pd.DataFrame(zip(Title, Price))\n",
    "title_price"
   ]
  },
  {
   "cell_type": "code",
   "execution_count": null,
   "metadata": {},
   "outputs": [],
   "source": []
  },
  {
   "cell_type": "code",
   "execution_count": null,
   "metadata": {},
   "outputs": [],
   "source": [
    "product_links= []\n",
    "baseurl = 'https://weknife.com'\n",
    "for items in knife_items:\n",
    "    for links in items.find_all('a', href = True, title =True):\n",
    "        product_links.append(baseurl + links['href'])"
   ]
  },
  {
   "cell_type": "code",
   "execution_count": null,
   "metadata": {},
   "outputs": [],
   "source": [
    "# dataframe that will hold the final resulting data\\,\n",
    "final = pd.DataFrame()\n",
    "for links in product_links:\n",
    "    HTML2 = requests.get(links, HEADER)\n",
    "    Booti2 = soup(HTML2.content,\"lxml\")\n",
    "    try:\n",
    "        buffer = pd.DataFrame(\n",
    "            [[\n",
    "                #name\\n\",\n",
    "                Booti2.find('div', class_='newttitle').text.strip(),\n",
    "                str(Booti2.find('div', class_ = 'detailContent').find(text = re.compile(r'(?:Blade Style: )'))[13:].replace('Blade Style: ', '')),\n",
    "            ]], \n",
    "            \n",
    "            columns= ['Name', 'Blade Style']#, 'Overall Length']#, 'Closed Length','Blade Thickness', 'Handle Thickness', 'Weight', 'Blade Material', 'Blade Hardness', 'Blade Grind', 'Blade Finish', 'Handle Material', 'Handle Onlay', 'Handle Color/Finish', 'Back Spacer Material', 'Liner Material', 'Screws Material', 'Pivot Assembly', 'Locking Mechanism', 'Sheath', 'Designer']\n",
    "            )\n",
    "        final = final.append(buffer)\n",
    "    except:\n",
    "        continue\n",
    "    print(final)\n",
    "    print(len(final))"
   ]
  },
  {
   "cell_type": "code",
   "execution_count": null,
   "metadata": {},
   "outputs": [],
   "source": [
    "final.to_excel(\"wiknife.xlsx\")"
   ]
  },
  {
   "cell_type": "code",
   "execution_count": null,
   "metadata": {},
   "outputs": [],
   "source": [
    "Knives_List = []\n",
    "testlinks = \"https://weknife.com/plus/view-234-1.html\"  \n",
    "for links in product_links:\n",
    "    HTML2 = requests.get(links, HEADER)\n",
    "    Booti2 = soup(HTML2.content,\"lxml\")\n",
    "#print(Booti2)\n",
    "    try:\n",
    "        Title = Booti2.find('meta', {'name':'keywords'}).get('content')\n",
    "        Desc = Booti2.find('meta', {'name':'description'}).get('content')\n",
    "    except:\n",
    "        continue\n",
    "    We_Knives_Desc = {'Title':Title,\n",
    "                        'Desc':  Desc\n",
    "                        }\n",
    "    Titles_Desc.append(We_Knives_Desc)"
   ]
  },
  {
   "cell_type": "code",
   "execution_count": null,
   "metadata": {},
   "outputs": [],
   "source": [
    "\n",
    "Titles_Desc = pd.DataFrame(Titles_Desc)\n",
    "Price = pd.DataFrame(Price)\n",
    "Knives = [Titles_Desc, Price]\n",
    "Knives_List_Final = pd.concat(Knives, axis = 1)\n",
    "len(Knives_List_Final)"
   ]
  },
  {
   "cell_type": "code",
   "execution_count": null,
   "metadata": {},
   "outputs": [],
   "source": [
    "Knives_List_Final.to_csv('we_knife.csv',index=False, mode='a')\n"
   ]
  },
  {
   "cell_type": "code",
   "execution_count": null,
   "metadata": {},
   "outputs": [],
   "source": [
    "type(Knives_List_Final.iloc[0,1])\n"
   ]
  }
 ],
 "metadata": {
  "interpreter": {
   "hash": "31f2aee4e71d21fbe5cf8b01ff0e069b9275f58929596ceb00d14d90e3e16cd6"
  },
  "kernelspec": {
   "display_name": "Python 3.8.9 64-bit",
   "name": "python3"
  },
  "language_info": {
   "codemirror_mode": {
    "name": "ipython",
    "version": 3
   },
   "file_extension": ".py",
   "mimetype": "text/x-python",
   "name": "python",
   "nbconvert_exporter": "python",
   "pygments_lexer": "ipython3",
   "version": "3.9.6 (default, Oct 18 2022, 12:41:40) \n[Clang 14.0.0 (clang-1400.0.29.202)]"
  },
  "orig_nbformat": 4
 },
 "nbformat": 4,
 "nbformat_minor": 2
}
