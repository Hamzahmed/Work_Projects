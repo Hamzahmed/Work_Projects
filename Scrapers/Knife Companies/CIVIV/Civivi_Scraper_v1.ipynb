{
 "cells": [
  {
   "cell_type": "code",
   "execution_count": null,
   "metadata": {},
   "outputs": [],
   "source": [
    "from bs4 import BeautifulSoup as soup\n",
    "import requests\n",
    "import re\n",
    "import pandas as pd\n",
    "from selenium import webdriver\n",
    "import html5lib\n",
    "import numpy as np\n",
    "import csv\n",
    "from collections import defaultdict\n",
    "from tabulate import tabulate\n",
    "import openpyxl\n",
    "from selenium import webdriver\n",
    "from selenium.webdriver.common.by import By\n",
    "from selenium.webdriver.support.ui import WebDriverWait\n",
    "from selenium.webdriver.support import expected_conditions as EC\n",
    "from selenium.webdriver.chrome.options import Options\n",
    "import time\n",
    "import requests\n",
    "from requests.packages.urllib3.exceptions import InsecureRequestWarning\n",
    "\n"
   ]
  },
  {
   "cell_type": "code",
   "execution_count": null,
   "metadata": {},
   "outputs": [],
   "source": [
    "HEADER = {'User-Agent': 'Mozilla/5.0 (Windows; U; Windows NT 5.1; en-US; rv:1.9.0.7) Gecko/2009021910 Firefox/3.0.7'}\n",
    "#PROXY = {\\\"https\\\": \\\"https//59.110.7.190:1080\\\"}\""
   ]
  },
  {
   "cell_type": "code",
   "execution_count": null,
   "metadata": {},
   "outputs": [],
   "source": [
    "baseURL = 'https://www.civivi.com'\n",
    "product_links = []\n",
    "for x in range (1,7):\n",
    "    HTML = requests.get(f'https://www.civivi.com/collections/all-products/price-range_-70?page={x}',HEADER)\n",
    "    time.sleep(1)\n",
    "    #HTML.status_code\n",
    "    Booti= soup(HTML.content, \"lxml\")\n",
    "    knife_items = Booti.find_all('div',class_= \"product-list product-list--collection product-list--with-sidebar\")\n",
    "    \n",
    "    for items in knife_items:\n",
    "        for links in items.findAll('a', attrs = {'class' : 'product-item__image-wrapper product-item__image-wrapper--with-secondary'}, href = True):\n",
    "            product_links.append(baseURL + links['href'])\n",
    "    "
   ]
  },
  {
   "cell_type": "code",
   "execution_count": null,
   "metadata": {},
   "outputs": [],
   "source": [
    "len(product_links)"
   ]
  },
  {
   "cell_type": "code",
   "execution_count": null,
   "metadata": {},
   "outputs": [],
   "source": [
    "# dataframe that will hold the final resulting data\n",
    "final = pd.DataFrame()\n",
    "for links in product_links:\n",
    "    requests.packages.urllib3.disable_warnings(InsecureRequestWarning)\n",
    "    HTML2 = requests.get(links, HEADER, verify=False)\n",
    "    \n",
    "    time.sleep(1)\n",
    "    Booti2 = soup(HTML2.content,\"lxml\")\n",
    "    try:\n",
    "        buffer = pd.DataFrame(\n",
    "            [[\n",
    "                # name\n",
    "                Booti2.find('h1', class_='product-meta__title heading h1').text.strip(),\n",
    "                # price\n",
    "                Booti2.find('div', class_='price-list').find('span').text,\n",
    "                # if  you don't want $ do this: Booti2.find('div', class_='price-list').find('span').text[1:]\n",
    "                # Weight\n",
    "                str(Booti2.find('div', class_ = 'rte text--pull').find(text=re.compile(r'(?:Blade Finish: )'))[14:]).replace('Blade Finish: ', '')\n",
    "                \n",
    "            ]],\n",
    "            columns=['Name', 'Price', 'Weight']\n",
    "        )\n",
    "        final = final.append(buffer)\n",
    "    except:\n",
    "        continue\n",
    "print(final)\n",
    "print(len(final))"
   ]
  },
  {
   "cell_type": "code",
   "execution_count": null,
   "metadata": {},
   "outputs": [],
   "source": [
    "final.to_excel(\"civivivivivi.xlsx\")"
   ]
  },
  {
   "cell_type": "code",
   "execution_count": null,
   "metadata": {},
   "outputs": [],
   "source": []
  }
 ],
 "metadata": {
  "interpreter": {
   "hash": "31f2aee4e71d21fbe5cf8b01ff0e069b9275f58929596ceb00d14d90e3e16cd6"
  },
  "kernelspec": {
   "display_name": "Python 3.8.9 64-bit",
   "language": "python",
   "name": "python3"
  },
  "language_info": {
   "codemirror_mode": {
    "name": "ipython",
    "version": 3
   },
   "file_extension": ".py",
   "mimetype": "text/x-python",
   "name": "python",
   "nbconvert_exporter": "python",
   "pygments_lexer": "ipython3",
   "version": "3.9.6 (default, Oct 18 2022, 12:41:40) \n[Clang 14.0.0 (clang-1400.0.29.202)]"
  },
  "orig_nbformat": 4
 },
 "nbformat": 4,
 "nbformat_minor": 2
}
