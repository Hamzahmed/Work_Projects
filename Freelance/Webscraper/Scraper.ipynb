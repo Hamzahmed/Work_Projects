{
 "cells": [
  {
   "cell_type": "code",
   "execution_count": null,
   "metadata": {},
   "outputs": [],
   "source": [
    "from bs4 import BeautifulSoup as soup\n",
    "import requests\n",
    "import re\n",
    "import pandas as pd\n",
    "import html5lib\n",
    "import numpy as np\n",
    "import csv\n",
    "from collections import defaultdict\n",
    "from tabulate import tabulate\n",
    "import openpyxl\n",
    "from selenium import webdriver\n",
    "from selenium.webdriver.common.by import By\n",
    "from selenium.webdriver.support.ui import WebDriverWait\n",
    "from selenium.webdriver.support import expected_conditions as EC\n",
    "from selenium.webdriver.chrome.options import Options"
   ]
  },
  {
   "cell_type": "code",
   "execution_count": null,
   "metadata": {},
   "outputs": [],
   "source": [
    "zip = \"21201\""
   ]
  },
  {
   "cell_type": "code",
   "execution_count": null,
   "metadata": {},
   "outputs": [],
   "source": [
    "headers = {'User-Agent': 'Mozilla/5.0 (Windows; U; Windows NT 5.1; en-US; rv:1.9.0.7) Gecko/2009021910 Firefox/3.0.7'}\n",
    "URL = \"https://www.dllr.state.md.us/cgi-bin/ElectronicLicensing/OP_Search/OP_search.cgi?calling_app=HIC::HIC_business_location\"\n",
    "#PROXY = {\"https\": \"https//59.110.7.190:1080\"}"
   ]
  },
  {
   "cell_type": "code",
   "execution_count": null,
   "metadata": {},
   "outputs": [],
   "source": [
    "from selenium import webdriver\n",
    "\n",
    "# Create a new instance of the Chrome driver\n",
    "driver = webdriver.Chrome()\n",
    "\n",
    "# Navigate to the webpage\n",
    "driver.get(URL)\n",
    "\n",
    "# Find the input field by its name attribute\n",
    "zip_input = driver.find_element(\"name\", \"zip\")\n",
    "\n",
    "# Clear any existing value in the input field\n",
    "zip_input.clear()\n",
    "\n",
    "# Enter the desired value into the input field\n",
    "zip_input.send_keys(\"21201\")\n",
    "# Find the search button and click it\n",
    "search_button = driver.find_element(\"name\", \"Submit\")\n",
    "search_button.click()\n",
    "\n",
    "# Retrieve the resulting URL\n",
    "result_url = driver.current_url\n",
    "\n",
    "# Print the resulting URL\n",
    "print(\"Result URL:\", result_url)\n",
    "\n",
    "# Close the browser\n",
    "driver.quit()\n"
   ]
  },
  {
   "cell_type": "code",
   "execution_count": null,
   "metadata": {},
   "outputs": [],
   "source": [
    "import pandas as pd\n",
    "from bs4 import BeautifulSoup\n",
    "from selenium import webdriver\n",
    "\n",
    "# Create a new instance of the Chrome driver\n",
    "driver = webdriver.Chrome()\n",
    "\n",
    "# Navigate to the webpage\n",
    "driver.get(URL)\n",
    "\n",
    "# Find the input field by its name attribute\n",
    "zip_input = driver.find_element(\"name\", \"zip\")\n",
    "\n",
    "# Clear any existing value in the input field\n",
    "zip_input.clear()\n",
    "\n",
    "# Enter the desired value into the input field\n",
    "zip_input.send_keys(\"21202\")\n",
    "\n",
    "# Find the search button and click it\n",
    "search_button = driver.find_element(\"name\", \"Submit\")\n",
    "search_button.click()\n",
    "\n",
    "html_content = driver.page_source\n",
    "\n",
    "# Parse the HTML using BeautifulSoup\n",
    "soup = BeautifulSoup(html_content, \"html.parser\")\n",
    "\n",
    "# Find the table\n",
    "table = soup.find(\"table\")\n",
    "\n",
    "# Extract the table data into a list\n",
    "table_data = []\n",
    "for row in table.find_all(\"tr\"):\n",
    "    row_data = []\n",
    "    for cell in row.find_all(\"td\"):\n",
    "        row_data.append(cell.get_text(strip=True))\n",
    "    table_data.append(row_data)\n",
    "\n",
    "# Convert the list into a Pandas DataFrame\n",
    "df = pd.DataFrame(table_data[1:], columns=table_data[0])\n",
    "\n",
    "df\n",
    "# # Close the browser\n",
    "# driver.quit()\n",
    "\n"
   ]
  },
  {
   "cell_type": "code",
   "execution_count": null,
   "metadata": {},
   "outputs": [],
   "source": [
    "df.to_csv('sample2.csv')"
   ]
  }
 ],
 "metadata": {
  "kernelspec": {
   "display_name": "Python 3",
   "language": "python",
   "name": "python3"
  },
  "language_info": {
   "codemirror_mode": {
    "name": "ipython",
    "version": 3
   },
   "file_extension": ".py",
   "mimetype": "text/x-python",
   "name": "python",
   "nbconvert_exporter": "python",
   "pygments_lexer": "ipython3",
   "version": "3.11.2 (main, Mar  7 2023, 12:38:29) [Clang 13.1.6 (clang-1316.0.21.2.5)]"
  },
  "orig_nbformat": 4,
  "vscode": {
   "interpreter": {
    "hash": "4a9dcb4b3896803ced2b95129df76f553611a6bd31fc1b527c81769ce2760891"
   }
  }
 },
 "nbformat": 4,
 "nbformat_minor": 2
}
