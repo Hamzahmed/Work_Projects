{
 "cells": [
  {
   "cell_type": "code",
   "execution_count": null,
   "metadata": {},
   "outputs": [],
   "source": [
    "# !pip install chromadb\n",
    "# !pip install langchain\n",
    "# !pip install sentence_transformers\n",
    "#!pip install sodapy\n",
    "# !pip install langchain-experimental\n",
    "#!pip install tiktoken\n",
    "# !pip install pgvector"
   ]
  },
  {
   "cell_type": "code",
   "execution_count": null,
   "metadata": {},
   "outputs": [],
   "source": [
    "import geopandas as gpd\n",
    "import pandas as pd\n",
    "import psycopg2\n",
    "import geoalchemy2\n",
    "from psycopg2 import sql\n",
    "from sqlalchemy import create_engine\n",
    "pd.set_option('display.max_columns', None)\n",
    "import sodapy\n",
    "from langchain.document_loaders import GeoDataFrameLoader\n",
    "from langchain.vectorstores import Chroma\n",
    "import langchain_experimental\n",
    "from langchain.vectorstores.pgvector import PGVector\n",
    "import openai\n",
    "import chromadb\n",
    "from chromadb.config import Settings\n",
    "import numpy as np\n",
    "import os\n",
    "from langchain.chains import RetrievalQA\n",
    "from langchain.text_splitter import CharacterTextSplitter\n",
    "from langchain.embeddings import HuggingFaceEmbeddings\n",
    "from langchain.embeddings.sentence_transformer import SentenceTransformerEmbeddings\n",
    "from langchain.vectorstores.pgvector import DistanceStrategy\n",
    "from langchain.embeddings import OpenAIEmbeddings\n",
    "from langchain.llms import OpenAI\n",
    "from langchain.vectorstores import utils as chromautils\n",
    "from dotenv import load_dotenv\n",
    "pd.set_option('display.max_columns', None)\n",
    "load_dotenv()\n"
   ]
  },
  {
   "cell_type": "code",
   "execution_count": null,
   "metadata": {},
   "outputs": [],
   "source": [
    "conn_params = {\n",
    "    'user': os.environ.get('POSTGRES_USER'),\n",
    "    'password': os.environ.get('POSTGRES_PASSWORD', ''),\n",
    "    'host': os.environ.get('POSTGRES_HOST', ''),\n",
    "    'port': os.environ.get('POSTGRES_PORT', '')\n",
    "}"
   ]
  },
  {
   "cell_type": "code",
   "execution_count": null,
   "metadata": {},
   "outputs": [],
   "source": [
    "dbname = 'threatanalysis'"
   ]
  },
  {
   "cell_type": "code",
   "execution_count": null,
   "metadata": {},
   "outputs": [],
   "source": [
    "OPENAI_API_KEY =  os.environ.get('OPENAI_API_KEY')\n",
    "OPENAI_API_KEY"
   ]
  },
  {
   "cell_type": "code",
   "execution_count": null,
   "metadata": {},
   "outputs": [],
   "source": [
    "CONNECTION_STRING = f\"postgresql+psycopg2://{conn_params['user']}:{conn_params['password']}@{conn_params['host']}:{conn_params['port']}/{dbname}\""
   ]
  },
  {
   "cell_type": "code",
   "execution_count": null,
   "metadata": {},
   "outputs": [],
   "source": [
    "connection = psycopg2.connect(**conn_params)"
   ]
  },
  {
   "cell_type": "code",
   "execution_count": null,
   "metadata": {},
   "outputs": [],
   "source": [
    "# Define the SQL query to fetch data from the table\n",
    "table_name = \"eventdata\"\n",
    "sql_query = f\"\"\"SELECT * FROM {table_name};\"\"\"\n",
    "\n",
    "# Use Pandas to read the query result into a DataFrame\n",
    "EventData = gpd.read_postgis(sql_query, connection, geom_col='geometry')"
   ]
  },
  {
   "cell_type": "code",
   "execution_count": null,
   "metadata": {},
   "outputs": [],
   "source": [
    "table_name = \"countydata\"\n",
    "sql_query = f\"\"\"SELECT * FROM {table_name};\"\"\"\n",
    "\n",
    "# Use Pandas to read the query result into a DataFrame\n",
    "countydata = gpd.read_postgis(sql_query, connection, geom_col='geometry')"
   ]
  },
  {
   "cell_type": "code",
   "execution_count": null,
   "metadata": {},
   "outputs": [],
   "source": [
    "EventData.fillna('N/A', inplace=True)\n",
    "EventData['event_date'] = EventData['event_date'].apply(lambda x: x.timestamp())\n",
    "EventData['event_source'] = EventData['event_source'].apply(np.array)"
   ]
  },
  {
   "cell_type": "code",
   "execution_count": null,
   "metadata": {},
   "outputs": [],
   "source": [
    "EventData.dtypes"
   ]
  },
  {
   "cell_type": "code",
   "execution_count": null,
   "metadata": {},
   "outputs": [],
   "source": [
    "type(EventData['geometry'].iloc[0])"
   ]
  },
  {
   "cell_type": "code",
   "execution_count": null,
   "metadata": {},
   "outputs": [],
   "source": [
    "loader = GeoDataFrameLoader(data_frame=EventData, page_content_column='geometry')"
   ]
  },
  {
   "cell_type": "code",
   "execution_count": null,
   "metadata": {},
   "outputs": [],
   "source": [
    "docs = loader.load()"
   ]
  },
  {
   "cell_type": "code",
   "execution_count": null,
   "metadata": {},
   "outputs": [],
   "source": [
    "llm = OpenAI(api_key=OPENAI_API_KEY, model_name=\"text-davinci-003\")\n",
    "embeddings = OpenAIEmbeddings(api_key=OPENAI_API_KEY)\n",
    "docs = chromautils.filter_complex_metadata(docs)\n",
    "db = Chroma.from_documents(docs, embeddings, persist_directory=\"./db\")"
   ]
  },
  {
   "cell_type": "code",
   "execution_count": null,
   "metadata": {},
   "outputs": [],
   "source": [
    "# Access the content and metadata of each document\n",
    "for document in docs:\n",
    "    content = document.page_content\n",
    "    metadata = document.metadata"
   ]
  },
  {
   "cell_type": "code",
   "execution_count": null,
   "metadata": {},
   "outputs": [],
   "source": [
    "# # Create a PGVector instance to house the documents and embeddings\n",
    "# import pgvector\n",
    "# from langchain.vectorstores.pgvector import DistanceStrategy\n",
    "# from langchain.vectorstores.pgvector import PGVector\n",
    "# from langchain.vectorstores import utils as chromautils\n",
    "\n",
    "# docs = chromautils.filter_complex_metadata(docs)\n",
    "# db = PGVector.from_documents(\n",
    "#     documents= docs,\n",
    "#     embedding = embeddings,\n",
    "#     collection_name= \"event_data\",\n",
    "#     distance_strategy = DistanceStrategy.COSINE,\n",
    "#     connection_string=CONNECTION_STRING)\n"
   ]
  },
  {
   "cell_type": "code",
   "execution_count": null,
   "metadata": {},
   "outputs": [],
   "source": [
    "# import chromadb\n",
    "# # vector store settings\n",
    "# VECTOR_STORE_PATH = r'../02_Data/00_Vector_Store'\n",
    "# COLLECTION_NAME = 'my_collection'\n",
    "\n",
    "# # Load embeddings_df.csv into data frame\n",
    "# embeddings_df = EventData\n",
    "\n",
    "# def get_or_create_client_and_collection(VECTOR_STORE_PATH, COLLECTION_NAME):\n",
    "#     # get/create a chroma client\n",
    "#     chroma_client = chromadb.PersistentClient(path=VECTOR_STORE_PATH)\n",
    "\n",
    "#     # get or create collection\n",
    "#     collection = chroma_client.get_or_create_collection(name=COLLECTION_NAME)\n",
    "\n",
    "#     return collection\n",
    "\n",
    "# # get or create collection\n",
    "# collection = get_or_create_client_and_collection(VECTOR_STORE_PATH, COLLECTION_NAME)"
   ]
  },
  {
   "cell_type": "code",
   "execution_count": null,
   "metadata": {},
   "outputs": [],
   "source": [
    "# db.get()"
   ]
  },
  {
   "cell_type": "code",
   "execution_count": null,
   "metadata": {},
   "outputs": [],
   "source": [
    "# result = db.similarity_search(\"what is the event_id for event_city Coconino \", k=1000)\n",
    "# result"
   ]
  },
  {
   "cell_type": "code",
   "execution_count": null,
   "metadata": {},
   "outputs": [],
   "source": [
    "# client = chromadb.PersistentClient(path=\"db/\")\n",
    "#collection = client.create_collection(name=\"Threat\")\n",
    "# retriever = db.as_retriever()\n",
    "#qa = RetrievalQA.from_chain_type(llm=llm, chain_type=\"stuff\", retriever=retriever)\n",
    "# query = 'what is the event_date for event_id 01101'\n",
    "# qa.run(query)"
   ]
  },
  {
   "cell_type": "code",
   "execution_count": null,
   "metadata": {},
   "outputs": [],
   "source": [
    "# text_splitter = CharacterTextSplitter(chunk_size=250, chunk_overlap=10)\n",
    "# texts = text_splitter.split_documents(docs)\n",
    "# embedding_function = SentenceTransformerEmbeddings(model_name=\"all-MiniLM-L6-v2\")\n",
    "\n",
    "#embedding_function = HuggingFaceEmbeddings(\n",
    "# model_name=\"sentence-transformers/all-MiniLM-L6-v2\"\n",
    "#) \n",
    "# chromadb_index = Chroma.from_documents(\n",
    "#  texts, embedding_function, persist_directory='./input'\n",
    "# )\n",
    "# retriever = chromadb_index.as_retriever()"
   ]
  }
 ],
 "metadata": {
  "kernelspec": {
   "display_name": "Python 3",
   "language": "python",
   "name": "python3"
  },
  "language_info": {
   "codemirror_mode": {
    "name": "ipython",
    "version": 3
   },
   "file_extension": ".py",
   "mimetype": "text/x-python",
   "name": "python",
   "nbconvert_exporter": "python",
   "pygments_lexer": "ipython3",
   "version": "3.11.2 (main, Mar  7 2023, 12:38:29) [Clang 13.1.6 (clang-1316.0.21.2.5)]"
  },
  "orig_nbformat": 4,
  "vscode": {
   "interpreter": {
    "hash": "4a9dcb4b3896803ced2b95129df76f553611a6bd31fc1b527c81769ce2760891"
   }
  }
 },
 "nbformat": 4,
 "nbformat_minor": 2
}
