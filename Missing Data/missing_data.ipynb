{
 "cells": [
  {
   "cell_type": "code",
   "execution_count": null,
   "metadata": {},
   "outputs": [],
   "source": [
    "import timeit\n",
    "import requests\n",
    "import json\n",
    "import pandas as pd\n",
    "from io import BytesIO, StringIO\n",
    "import numpy as np\n",
    "from datetime import datetime\n",
    "import oauth2client\n",
    "from oauth2client.client import GoogleCredentials\n",
    "from oauth2client import client\n",
    "from oauth2client.client import flow_from_clientsecrets\n",
    "from oauth2client import file\n",
    "from oauth2client import tools\n",
    "from googleapiclient import discovery\n",
    "from googleapiclient import errors\n",
    "from google_auth_oauthlib import flow\n",
    "import google_auth_httplib2\n",
    "import httplib2\n",
    "import urllib.request\n",
    "import time\n",
    "import os\n",
    "import ast\n",
    "import io\n",
    "from io import StringIO\n",
    "from googleapiclient.http import MediaIoBaseDownload\n",
    "from venv import create\n",
    "import googleapiclient.discovery\n",
    "from googleapiclient.discovery import build\n",
    "from google_auth_oauthlib.flow import InstalledAppFlow\n",
    "import json\n",
    "#!/usr/bin/env python\n",
    "\n",
    "import pandas as pd\n",
    "pd.set_option(\"display.max_rows\", None, \"display.max_columns\", None)"
   ]
  },
  {
   "cell_type": "code",
   "execution_count": null,
   "metadata": {},
   "outputs": [],
   "source": [
    "df1 = pd.read_csv('/Users/hamzaahmed/Coding Projects/Test/playground/Assignments Import - Assignments.csv')\n",
    "df2 = pd.read_csv('/Users/hamzaahmed/Coding Projects/Test/playground/Legacy Sheet (GCP) - Table.csv')"
   ]
  },
  {
   "cell_type": "code",
   "execution_count": null,
   "metadata": {},
   "outputs": [],
   "source": [
    "# Concatenate the DataFrames vertically\n",
    "concatenated = pd.concat([df1, df2])\n",
    "\n",
    "# Drop the duplicate rows keeping the first occurrence\n",
    "deduplicated = concatenated.drop_duplicates(keep='first')\n",
    "\n",
    "# Filter the rows that are only in df1\n",
    "missing_rows = deduplicated.loc[deduplicated.index.isin(df1.index) & ~deduplicated.index.isin(df2.index)]\n",
    "\n",
    "# missing_rows.to_csv('missing.csv')"
   ]
  },
  {
   "cell_type": "code",
   "execution_count": null,
   "metadata": {},
   "outputs": [],
   "source": [
    "# Convert boolean columns to string\n",
    "boolean_cols = missing_rows.select_dtypes(include=bool).columns\n",
    "missing_rows[boolean_cols] = missing_rows[boolean_cols].astype(str)"
   ]
  },
  {
   "cell_type": "code",
   "execution_count": null,
   "metadata": {},
   "outputs": [],
   "source": [
    "OAUTH_SCOPES = (\"https://www.googleapis.com/auth/drive \" + \"https://www.googleapis.com/auth/drive.file \" + \"https://www.googleapis.com/auth/spreadsheets \")"
   ]
  },
  {
   "cell_type": "code",
   "execution_count": null,
   "metadata": {},
   "outputs": [],
   "source": [
    "flow = client.flow_from_clientsecrets(\n",
    "    \"/Users/hamzaahmed/Coding Projects/Test/playground/Google Sheet Access/Google Sheet Creds.json\", scope = OAUTH_SCOPES, \n",
    "    redirect_uri = \"urn:ietf:wg:oauth:2.0:oob\")\n",
    "\n",
    "storage = oauth2client.file.Storage('/Users/hamzaahmed/Coding Projects/Test/playground/Google Sheet Access/Credentials.dat')\n",
    "credentials = storage.get()\n",
    "\n",
    "if credentials is None or credentials.invalid:\n",
    "  credentials = tools.run_flow(flow, storage,\n",
    "                               tools.argparser.parse_known_args()[0])\n",
    "http = credentials.authorize(httplib2.Http())\n",
    "\n",
    "\n",
    "service = discovery.build('sheets', 'v4', http=http)"
   ]
  },
  {
   "cell_type": "code",
   "execution_count": null,
   "metadata": {},
   "outputs": [],
   "source": [
    "SPREADSHEET_ID=''\n",
    "SHEET_NAME = \"Sheet1\"\n",
    "range = '{0}!A1:ZZ'.format( SHEET_NAME )\n",
    "clear_values_request_body = {\n",
    "    # TODO: Add desired entries to the request body.\n",
    "}\n",
    "\n",
    "request_clear = service.spreadsheets().values().clear(spreadsheetId=SPREADSHEET_ID, range=range, body=clear_values_request_body)\n",
    "response = request_clear.execute()\n"
   ]
  },
  {
   "cell_type": "code",
   "execution_count": null,
   "metadata": {},
   "outputs": [],
   "source": [
    "# Convert NaN values to None\n",
    "df23 = df2.where(pd.notnull(df2), None)"
   ]
  },
  {
   "cell_type": "code",
   "execution_count": null,
   "metadata": {},
   "outputs": [],
   "source": [
    "df2 = df2.fillna(\" \")\n",
    "values = [df2.columns.values.tolist()] + df2.values.tolist()\n",
    "data = [\n",
    "    {\n",
    "        'range': f\"'{SHEET_NAME}'!A1\",\n",
    "        'values': values\n",
    "    },\n",
    "    # Additional ranges to update ...\n",
    "]\n",
    "body = {\n",
    "    'valueInputOption': \"RAW\",\n",
    "    'data': data\n",
    "\n",
    "}"
   ]
  },
  {
   "cell_type": "code",
   "execution_count": null,
   "metadata": {},
   "outputs": [],
   "source": [
    "result = service.spreadsheets().values().batchUpdate(\n",
    "    spreadsheetId=SPREADSHEET_ID, body=body).execute()\n",
    "print('{0} cells updated.'.format(result.get('totalUpdatedCells')))"
   ]
  }
 ],
 "metadata": {
  "kernelspec": {
   "display_name": "Python 3",
   "language": "python",
   "name": "python3"
  },
  "language_info": {
   "codemirror_mode": {
    "name": "ipython",
    "version": 3
   },
   "file_extension": ".py",
   "mimetype": "text/x-python",
   "name": "python",
   "nbconvert_exporter": "python",
   "pygments_lexer": "ipython3",
   "version": "3.11.2 (main, Mar  7 2023, 12:38:29) [Clang 13.1.6 (clang-1316.0.21.2.5)]"
  },
  "orig_nbformat": 4,
  "vscode": {
   "interpreter": {
    "hash": "4a9dcb4b3896803ced2b95129df76f553611a6bd31fc1b527c81769ce2760891"
   }
  }
 },
 "nbformat": 4,
 "nbformat_minor": 2
}
